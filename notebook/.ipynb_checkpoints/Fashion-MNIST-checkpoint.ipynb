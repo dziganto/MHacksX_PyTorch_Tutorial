{
 "cells": [
  {
   "cell_type": "markdown",
   "metadata": {},
   "source": [
    "## OBJECTIVE\n",
    "\n",
    "This is a tutorial meant to introduce you to PyTorch, a python package that provides two high-level features:\n",
    "1. A replacement for numpy to use the power of GPUs\n",
    "2. A deep learning research platform that provides maximum flexibility and speed  \n",
    "\n",
    "According to the [docs](http://pytorch.org/about/):\n",
    ">**[DYNAMIC NEURAL NETWORKS]**  \n",
    ">\"PyTorch has a unique way of building neural networks: using and replaying a tape recorder.\"\n",
    ">\n",
    ">\"Most frameworks such as TensorFlow, Theano, Caffe and CNTK have a static view of the world. One has to build a neural network, and reuse the same structure again and again. Changing the way the network behaves means that one has to start from scratch.\"\n",
    ">\n",
    ">\"With PyTorch, we use a technique called Reverse-mode auto-differentiation, which allows you to change the way your network behaves arbitrarily with zero lag or overhead. Our inspiration comes from several research papers on this topic, as well as current and past work such as autograd, autograd, Chainer, etc.\"\n",
    ">\n",
    ">\"While this technique is not unique to PyTorch, it’s one of the fastest implementations of it to date. You get the best of speed and flexibility for your crazy research.\"\n",
    ">\n",
    "> \n",
    ">**[NATIVE TO PYTHON]**  \n",
    ">\"PyTorch is not a Python binding into a monolothic C++ framework. It is built to be deeply integrated into Python. You can use it naturally like you would use numpy / scipy / scikit-learn etc. You can write your new neural network layers in Python itself, using your favorite libraries and use packages such as Cython and Numba. Our goal is to not reinvent the wheel where appropriate.\"\n",
    ">\n",
    ">**[EASY TO USE]**  \n",
    ">\"PyTorch is designed to be intuitive, linear in thought and easy to use. When you execute a line of code, it gets executed. There isn’t an asynchronous view of the world. When you drop into a debugger, or receive error messages and stack traces, understanding them is straight-forward. The stack-trace points to exactly where your code was defined. We hope you never spend hours debugging your code because of bad stack traces or asynchronous and opaque execution engines.\"\n",
    ">\n",
    ">**[FAST]**  \n",
    ">\"PyTorch has minimal framework overhead. We integrate acceleration libraries such as Intel MKL and NVIDIA (CuDNN, NCCL) to maximize speed. At the core, it’s CPU and GPU Tensor and Neural Network backends (TH, THC, THNN, THCUNN) are written as independent libraries with a C99 API.\"\n",
    ">\n",
    ">\"They are mature and have been tested for years.\"\n",
    ">\n",
    ">\"Hence, PyTorch is quite fast – whether you run small or large neural networks.\"\n",
    ">\n",
    ">**[LEAN]**  \n",
    ">\"The memory usage in PyTorch is extremely efficient compared to Torch or some of the alternatives. We’ve written custom memory allocators for the GPU to make sure that your deep learning models are maximally memory efficient. This enables you to train bigger deep learning models than before.\"\n",
    "\n",
    "To get you acclimated with the basics of this framework, we'll walkthrough an example using the [Fashion-MNIST dataset](https://github.com/zalandoresearch/fashion-mnist). \n",
    "\n",
    "My hope is that you see how powerful and how easy PyTorch is to use and that you'll take what you've learned here today and apply it to your own deep learning problems."
   ]
  },
  {
   "cell_type": "markdown",
   "metadata": {},
   "source": [
    "## WHY FASHION-MNIST?\n",
    "\n",
    "Most, if not all, of us are familiar with **MNIST**. It's an aggregation of thousands of handwritten digits. It's usually the first dataset you encounter when dipping your toes into machine learning - sort of like the Hello World of machine learning. It's a great introductory dataset. \n",
    "\n",
    "It looks like this:\n",
    "![MNIST](http://andrew.gibiansky.com/blog/machine-learning/k-nearest-neighbors-simplest-machine-learning/images/mnist-example-ipy.png)\n",
    "\n",
    "\n",
    "You may also be familiar with **CIFAR-10**. It too is a carefully curated aggregation that includes thousands of images comprising 10 categories. \n",
    "\n",
    "It looks like this:\n",
    "![CIFAR](http://karpathy.github.io/assets/cifar_preview.png)\n",
    "\n",
    "So why didn't I use MNIST or CIFAR-10? In a few words: because it's been done...a lot. So instead of subjecting you to yet another tutorial centered on these canonical datasets, I decided to switch it up. To show you something a little different, in the hopes that it'll be not only more interesting, but also more challenging.  "
   ]
  },
  {
   "cell_type": "markdown",
   "metadata": {},
   "source": [
    "## ENTER FASHION-MNIST\n",
    "\n",
    "Fashion-MNIST is a dataset of [Zalando's](https://jobs.zalando.com/tech/) article images—consisting of a training set of 60,000 examples and a test set of 10,000 examples. Each example is a 28x28 grayscale image, associated with a label from 10 classes. Fashion-MNIST is meant to serve as a direct drop-in replacement for the original MNIST dataset for benchmarking machine learning algorithms. It shares the same image size and structure of training and testing splits.\n",
    "\n",
    "|LABEL|DESCRIPTION|\n",
    "|--|--|\n",
    "|0|T-Shirt|\n",
    "|1|Trouser|\n",
    "|2|Pullover|\n",
    "|3|Dress|\n",
    "|4|Coat|\n",
    "|5|Sandal|\n",
    "|6|Shirt|\n",
    "|7|Sneaker|\n",
    "|8|Bag|\n",
    "|9|Ankle Boot|\n",
    "\n",
    "Here's an example how the data looks (each class takes three-rows):  \n",
    "![FMNIST](https://github.com/zalandoresearch/fashion-mnist/raw/master/doc/img/fashion-mnist-sprite.png)"
   ]
  },
  {
   "cell_type": "markdown",
   "metadata": {},
   "source": [
    "---"
   ]
  },
  {
   "cell_type": "markdown",
   "metadata": {},
   "source": [
    "## PyTorch Tutorial\n",
    "\n",
    "Now that we know a bit about our dataset, let's learn some PyTorch!"
   ]
  },
  {
   "cell_type": "markdown",
   "metadata": {},
   "source": [
    "### Load Libraries"
   ]
  },
  {
   "cell_type": "code",
   "execution_count": 1,
   "metadata": {
    "collapsed": true
   },
   "outputs": [],
   "source": [
    "%matplotlib inline\n",
    "import matplotlib.pyplot as plt\n",
    "import numpy as np\n",
    "import torch\n",
    "import torchvision\n",
    "import torch.utils.data as data_utils\n",
    "from torch.autograd import Variable\n",
    "import torch.nn as nn\n",
    "import torch.nn.functional as F\n",
    "import torch.optim as optim"
   ]
  },
  {
   "cell_type": "markdown",
   "metadata": {},
   "source": [
    "### Functions"
   ]
  },
  {
   "cell_type": "code",
   "execution_count": 2,
   "metadata": {
    "collapsed": true
   },
   "outputs": [],
   "source": [
    "def load_fmnist(path, kind='train'):\n",
    "    # attribution: https://github.com/zalandaoresearch/fashion-mnist/blob/master/utils/mnist_reader.py\n",
    "    '''function that returns images and labels separately in a numpy ndarray'''\n",
    "    import os\n",
    "    import gzip\n",
    "    \n",
    "    \"\"\"Load MNIST data from path\"\"\"\n",
    "    labels_path = os.path.join(path,\n",
    "                              '%s-labels-idx1-ubyte.gz'\n",
    "                              % kind)\n",
    "    images_path = os.path.join(path,\n",
    "                              '%s-images-idx3-ubyte.gz'\n",
    "                              % kind)\n",
    "    \n",
    "    with gzip.open(labels_path, 'rb') as lbpath:\n",
    "        labels = np.frombuffer(lbpath.read(), dtype=np.uint8,\n",
    "                              offset=8)\n",
    "        \n",
    "    with gzip.open(images_path, 'rb') as imgpath:\n",
    "        images = np.frombuffer(imgpath.read(), dtype=np.uint8,\n",
    "                              offset=16).reshape(len(labels), 784)\n",
    "        \n",
    "    return images, labels"
   ]
  },
  {
   "cell_type": "code",
   "execution_count": 3,
   "metadata": {
    "collapsed": true
   },
   "outputs": [],
   "source": [
    "def standardize(ndarray):\n",
    "    '''standardize data with mean 0 and std 1'''\n",
    "    return (ndarray - ndarray.mean()) / np.sqrt(ndarray.var() + 1e-5)"
   ]
  },
  {
   "cell_type": "code",
   "execution_count": 4,
   "metadata": {
    "collapsed": true
   },
   "outputs": [],
   "source": [
    "def imshow(img):\n",
    "    '''convert tensor to display image'''\n",
    "    npimg = img.numpy()\n",
    "    plt.imshow(np.transpose(npimg, (1,2,0)))"
   ]
  },
  {
   "cell_type": "markdown",
   "metadata": {},
   "source": [
    "### Load Data"
   ]
  },
  {
   "cell_type": "code",
   "execution_count": 5,
   "metadata": {
    "collapsed": true
   },
   "outputs": [],
   "source": [
    "# set the path to your Fashion-MNIST data\n",
    "mypath = '/Users/davidziganto/Data_Science/Workshops/PyTorch/MHacksX/data'"
   ]
  },
  {
   "cell_type": "code",
   "execution_count": 6,
   "metadata": {
    "collapsed": true
   },
   "outputs": [],
   "source": [
    "X_train, y_train = load_fmnist(path=mypath, kind='train')\n",
    "X_test, y_test = load_fmnist(path=mypath, kind='t10k')"
   ]
  },
  {
   "cell_type": "markdown",
   "metadata": {},
   "source": [
    "### Check Type, Dimensions, & Values"
   ]
  },
  {
   "cell_type": "code",
   "execution_count": 7,
   "metadata": {},
   "outputs": [
    {
     "data": {
      "text/plain": [
       "numpy.ndarray"
      ]
     },
     "execution_count": 7,
     "metadata": {},
     "output_type": "execute_result"
    }
   ],
   "source": [
    "# check type of our data\n",
    "type(X_train)"
   ]
  },
  {
   "cell_type": "code",
   "execution_count": 8,
   "metadata": {},
   "outputs": [
    {
     "name": "stdout",
     "output_type": "stream",
     "text": [
      "Dimensions\n",
      "---\n",
      "X_train (60000, 784)\n",
      "X_test (10000, 784)\n",
      "y_train (60000,)\n",
      "y_test (10000,)\n"
     ]
    }
   ],
   "source": [
    "print('Dimensions\\n---')\n",
    "print('X_train', X_train.shape)\n",
    "print('X_test', X_test.shape)\n",
    "print('y_train', y_train.shape)\n",
    "print('y_test', y_test.shape)"
   ]
  },
  {
   "cell_type": "code",
   "execution_count": 9,
   "metadata": {},
   "outputs": [
    {
     "name": "stdout",
     "output_type": "stream",
     "text": [
      "<function amin at 0x10e358268> 0\n",
      "<function amin at 0x10e358268> 0\n",
      "<function amax at 0x10e3581e0> 255\n",
      "<function amax at 0x10e3581e0> 255\n",
      "<function mean at 0x10e358730> 72.9403522321\n",
      "<function mean at 0x10e358730> 73.1465665816\n",
      "<function std at 0x10e3587b8> 90.0211823513\n",
      "<function std at 0x10e3587b8> 89.8732590781\n"
     ]
    }
   ],
   "source": [
    "stats = [np.min, np.max, np.mean, np.std]\n",
    "for stat in stats:\n",
    "    print(str(stat), stat(X_train))\n",
    "    print(str(stat), stat(X_test))"
   ]
  },
  {
   "cell_type": "markdown",
   "metadata": {},
   "source": [
    "### Preprocess Data"
   ]
  },
  {
   "cell_type": "code",
   "execution_count": 10,
   "metadata": {
    "collapsed": true
   },
   "outputs": [],
   "source": [
    "# standardize data (needed for SGD)\n",
    "X_train = standardize(X_train)\n",
    "X_test = standardize(X_test)"
   ]
  },
  {
   "cell_type": "code",
   "execution_count": 11,
   "metadata": {},
   "outputs": [
    {
     "name": "stdout",
     "output_type": "stream",
     "text": [
      "<function amin at 0x10e358268> -0.810257655831\n",
      "<function amin at 0x10e358268> -0.813885768544\n",
      "<function amax at 0x10e3581e0> 2.02240898087\n",
      "<function amax at 0x10e3581e0> 2.02344318178\n",
      "<function mean at 0x10e358730> -1.30314504463e-17\n",
      "<function mean at 0x10e358730> -8.77882800468e-17\n",
      "<function std at 0x10e3587b8> 0.999999999383\n",
      "<function std at 0x10e3587b8> 0.999999999381\n"
     ]
    }
   ],
   "source": [
    "# check stats\n",
    "for stat in stats:\n",
    "    print(str(stat), stat(X_train))\n",
    "    print(str(stat), stat(X_test))"
   ]
  },
  {
   "cell_type": "code",
   "execution_count": 12,
   "metadata": {
    "collapsed": true
   },
   "outputs": [],
   "source": [
    "# reshape numpy arrays\n",
    "X_train = X_train.reshape(-1, 1, 28, 28)\n",
    "X_test = X_test.reshape(-1, 1, 28, 28)"
   ]
  },
  {
   "cell_type": "code",
   "execution_count": 13,
   "metadata": {},
   "outputs": [
    {
     "name": "stdout",
     "output_type": "stream",
     "text": [
      "Dimensions\n",
      "---\n",
      "X_train (60000, 1, 28, 28)\n",
      "X_test (10000, 1, 28, 28)\n"
     ]
    }
   ],
   "source": [
    "print('Dimensions\\n---')\n",
    "print('X_train', X_train.shape)\n",
    "print('X_test', X_test.shape)"
   ]
  },
  {
   "cell_type": "code",
   "execution_count": 14,
   "metadata": {
    "collapsed": true
   },
   "outputs": [],
   "source": [
    "# convert numpy ndarray --> torch tensor\n",
    "X_train = torch.from_numpy(X_train).float()  ## have to add .float() here  \n",
    "X_test = torch.from_numpy(X_test).float()    ## otherwise ByteTensor which won't work\n",
    "y_train = torch.from_numpy(y_train)\n",
    "y_test = torch.from_numpy(y_test)"
   ]
  },
  {
   "cell_type": "code",
   "execution_count": 15,
   "metadata": {},
   "outputs": [
    {
     "data": {
      "text/plain": [
       "torch.FloatTensor"
      ]
     },
     "execution_count": 15,
     "metadata": {},
     "output_type": "execute_result"
    }
   ],
   "source": [
    "type(X_train)"
   ]
  },
  {
   "cell_type": "markdown",
   "metadata": {},
   "source": [
    "### Create Train & Test Datasets"
   ]
  },
  {
   "cell_type": "code",
   "execution_count": 16,
   "metadata": {
    "collapsed": true
   },
   "outputs": [],
   "source": [
    "train = data_utils.TensorDataset(X_train, y_train)\n",
    "test = data_utils.TensorDataset(X_test, y_test)\n",
    "\n",
    "train_loader = data_utils.DataLoader(train, batch_size=4, shuffle=True, num_workers=2)\n",
    "test_loader = data_utils.DataLoader(test, batch_size=4, shuffle=True, num_workers=2)\n",
    "\n",
    "classes = ['t-shirt', 'trouser', 'pullover', 'dress', 'coat',\n",
    "          'sandal', 'shirt', 'sneaker', 'bag', 'ankle-boot']"
   ]
  },
  {
   "cell_type": "code",
   "execution_count": 17,
   "metadata": {},
   "outputs": [
    {
     "data": {
      "text/plain": [
       "torch.utils.data.dataset.TensorDataset"
      ]
     },
     "execution_count": 17,
     "metadata": {},
     "output_type": "execute_result"
    }
   ],
   "source": [
    "type(train)"
   ]
  },
  {
   "cell_type": "markdown",
   "metadata": {},
   "source": [
    "### View Sample Images"
   ]
  },
  {
   "cell_type": "code",
   "execution_count": 18,
   "metadata": {},
   "outputs": [
    {
     "name": "stdout",
     "output_type": "stream",
     "text": [
      "coat coat ankle-boot trouser\n"
     ]
    },
    {
     "data": {
      "image/png": "[encoded data removed]",
      "text/plain": [
       "<matplotlib.figure.Figure at 0x113c068d0>"
      ]
     },
     "metadata": {},
     "output_type": "display_data"
    }
   ],
   "source": [
    "# get random training images\n",
    "trainiter = iter(train_loader)\n",
    "images, labels = next(trainiter)\n",
    "\n",
    "# show images\n",
    "imshow(torchvision.utils.make_grid(images))"
   ]
  },
  {
   "cell_type": "code",
   "execution_count": null,
   "metadata": {
    "collapsed": true
   },
   "outputs": [],
   "source": [
    "# print labels\n",
    "print(' '.join('%s' % classes[labels[i]] for i in range(4)))"
   ]
  },
  {
   "cell_type": "markdown",
   "metadata": {},
   "source": [
    "### Convolutional Neural Network"
   ]
  },
  {
   "cell_type": "code",
   "execution_count": 19,
   "metadata": {
    "collapsed": true
   },
   "outputs": [],
   "source": [
    "class CNN(nn.Module):\n",
    "    def __init__(self):\n",
    "        super(CNN, self).__init__()\n",
    "        self.conv1 = nn.Conv2d(1, 10, 5)  ## (nb inputs, nb filters, kernel size)\n",
    "        self.pool1 = nn.MaxPool2d(2, 2)\n",
    "        self.conv2 = nn.Conv2d(10, 20, 5)\n",
    "        self.pool2 = nn.MaxPool2d(2, 2)\n",
    "        self.fc1 = nn.Linear(320, 50)\n",
    "        self.fc2 = nn.Linear(50, 10)\n",
    "        \n",
    "    def forward(self, x):\n",
    "        x = self.pool1(F.relu(self.conv1(x)))\n",
    "        x = self.pool2(F.relu(self.conv2(x)))\n",
    "        x = x.view(x.size(0), -1)  ## reshape for fully connected layer\n",
    "        x = F.relu(self.fc1(x))\n",
    "        x = F.relu(self.fc2(x))\n",
    "        return x"
   ]
  },
  {
   "cell_type": "code",
   "execution_count": 20,
   "metadata": {
    "collapsed": true
   },
   "outputs": [],
   "source": [
    "# instantiate model\n",
    "cnn = CNN()"
   ]
  },
  {
   "cell_type": "code",
   "execution_count": 21,
   "metadata": {},
   "outputs": [
    {
     "name": "stdout",
     "output_type": "stream",
     "text": [
      "CNN (\n",
      "  (conv1): Conv2d(1, 10, kernel_size=(5, 5), stride=(1, 1))\n",
      "  (pool1): MaxPool2d (size=(2, 2), stride=(2, 2), dilation=(1, 1))\n",
      "  (conv2): Conv2d(10, 20, kernel_size=(5, 5), stride=(1, 1))\n",
      "  (pool2): MaxPool2d (size=(2, 2), stride=(2, 2), dilation=(1, 1))\n",
      "  (fc1): Linear (320 -> 50)\n",
      "  (fc2): Linear (50 -> 10)\n",
      ")\n"
     ]
    }
   ],
   "source": [
    "# see architecture\n",
    "print(cnn)"
   ]
  },
  {
   "cell_type": "markdown",
   "metadata": {},
   "source": [
    "### Define Loss Function & Optimizer"
   ]
  },
  {
   "cell_type": "code",
   "execution_count": 22,
   "metadata": {
    "collapsed": true
   },
   "outputs": [],
   "source": [
    "criterion = nn.CrossEntropyLoss()\n",
    "optimizer = optim.SGD(cnn.parameters(), lr=0.001, momentum=0.9)"
   ]
  },
  {
   "cell_type": "markdown",
   "metadata": {},
   "source": [
    "### Train Model"
   ]
  },
  {
   "cell_type": "code",
   "execution_count": 23,
   "metadata": {},
   "outputs": [
    {
     "name": "stdout",
     "output_type": "stream",
     "text": [
      "[1,  5000] loss: 0.892\n",
      "[1, 10000] loss: 0.447\n",
      "[1, 15000] loss: 0.390\n",
      "[2,  5000] loss: 0.351\n",
      "[2, 10000] loss: 0.346\n",
      "[2, 15000] loss: 0.337\n",
      "[3,  5000] loss: 0.308\n",
      "[3, 10000] loss: 0.307\n",
      "[3, 15000] loss: 0.303\n",
      "Training Complete!\n"
     ]
    }
   ],
   "source": [
    "nb_epochs = 3\n",
    "minibatches = 5000\n",
    "\n",
    "for epoch in range(nb_epochs):\n",
    "    running_loss = 0.0\n",
    "    for i, data in enumerate(train_loader, 0):\n",
    "        inputs, labels = data  ## separate input data and labels\n",
    "        inputs, labels = Variable(inputs), Variable(labels)  ## wrap in Variable for GD\n",
    "        # zero parameter gradients, else accumulate\n",
    "        optimizer.zero_grad()\n",
    "        # forward prop\n",
    "        outputs = cnn(inputs)\n",
    "        # calculate loss\n",
    "        loss = criterion(outputs, labels)\n",
    "        # backprop\n",
    "        loss.backward()\n",
    "        # update weights\n",
    "        optimizer.step()\n",
    "        \n",
    "        # print running loss\n",
    "        running_loss += loss.data[0]\n",
    "        if i%minibatches == minibatches-1:\n",
    "            # print every 5,000 minibatches or whatever you set 'minibatches' equal to\n",
    "            print('[%d, %5d] loss: %.3f' % (epoch+1, i+1, running_loss/minibatches))\n",
    "            running_loss = 0.0\n",
    "            \n",
    "print('Training Complete!')"
   ]
  },
  {
   "cell_type": "markdown",
   "metadata": {},
   "source": [
    "### How'd We Do?"
   ]
  },
  {
   "cell_type": "code",
   "execution_count": 24,
   "metadata": {
    "collapsed": true
   },
   "outputs": [],
   "source": [
    "testiter = iter(test_loader)\n",
    "test_images, test_labels = next(testiter)"
   ]
  },
  {
   "cell_type": "code",
   "execution_count": 25,
   "metadata": {},
   "outputs": [
    {
     "data": {
      "image/png": "[encoded data removed]",
      "text/plain": [
       "<matplotlib.figure.Figure at 0x113c967f0>"
      ]
     },
     "metadata": {},
     "output_type": "display_data"
    }
   ],
   "source": [
    "imshow(torchvision.utils.make_grid(test_images))"
   ]
  },
  {
   "cell_type": "code",
   "execution_count": 26,
   "metadata": {},
   "outputs": [
    {
     "name": "stdout",
     "output_type": "stream",
     "text": [
      "Ground Truth: coat shirt pullover pullover\n"
     ]
    }
   ],
   "source": [
    "print('Ground Truth:', ' '.join('%s' % classes[test_labels[i]] for i in range(4)))"
   ]
  },
  {
   "cell_type": "code",
   "execution_count": 27,
   "metadata": {},
   "outputs": [
    {
     "data": {
      "text/plain": [
       "\n",
       " 4\n",
       " 6\n",
       " 6\n",
       " 2\n",
       "[torch.LongTensor of size 4]"
      ]
     },
     "execution_count": 27,
     "metadata": {},
     "output_type": "execute_result"
    }
   ],
   "source": [
    "guess = torch.max(cnn(Variable(test_images)), 1)[1].data\n",
    "guess"
   ]
  },
  {
   "cell_type": "code",
   "execution_count": 28,
   "metadata": {},
   "outputs": [
    {
     "name": "stdout",
     "output_type": "stream",
     "text": [
      "CNN Guess: coat shirt shirt pullover\n"
     ]
    }
   ],
   "source": [
    "print('CNN Guess:', ' '.join('%s' % classes[guess[i]] for i in range(4)))"
   ]
  },
  {
   "cell_type": "markdown",
   "metadata": {},
   "source": [
    "### Total Accuracy & Accuracy By Class"
   ]
  },
  {
   "cell_type": "code",
   "execution_count": 29,
   "metadata": {},
   "outputs": [
    {
     "name": "stdout",
     "output_type": "stream",
     "text": [
      "Accuracy on the 10000 test images is 88%\n",
      "\n",
      "Accuracy of t-shirt: 79%\n",
      "Accuracy of trouser: 95%\n",
      "Accuracy of pullover: 87%\n",
      "Accuracy of dress: 89%\n",
      "Accuracy of coat: 78%\n",
      "Accuracy of sandal: 93%\n",
      "Accuracy of shirt: 68%\n",
      "Accuracy of sneaker: 97%\n",
      "Accuracy of bag: 97%\n",
      "Accuracy of ankle-boot: 95%\n"
     ]
    }
   ],
   "source": [
    "correct = 0\n",
    "total = 0\n",
    "\n",
    "correct_class = list(0. for i in range(10))\n",
    "total_class = list(0. for i in range(10))\n",
    "\n",
    "for data in test_loader:\n",
    "    images, labels = data\n",
    "    outputs = cnn(Variable(images))\n",
    "    _, predicted = torch.max(outputs.data, 1)\n",
    "    total += labels.size(0)\n",
    "    correct += (predicted == labels).sum()\n",
    "    c = (predicted == labels).squeeze()\n",
    "    for i in range(4):\n",
    "        label = labels[i]\n",
    "        correct_class[label] += c[i]\n",
    "        total_class[label] += 1\n",
    "    \n",
    "print('Accuracy on the %d test images is %d%%\\n' % (total, (100*correct/total)))\n",
    "\n",
    "for i in range(10):\n",
    "    print('Accuracy of %s: %2d%%' % (classes[i], 100*correct_class[i]/total_class[i]))"
   ]
  },
  {
   "cell_type": "markdown",
   "metadata": {},
   "source": [
    "# To Do...\n",
    "\n",
    "Show how to go from conv to fc (how to get 320?)"
   ]
  }
 ],
 "metadata": {
  "kernelspec": {
   "display_name": "Python [conda env:pytorch]",
   "language": "python",
   "name": "conda-env-pytorch-py"
  },
  "language_info": {
   "codemirror_mode": {
    "name": "ipython",
    "version": 3
   },
   "file_extension": ".py",
   "mimetype": "text/x-python",
   "name": "python",
   "nbconvert_exporter": "python",
   "pygments_lexer": "ipython3",
   "version": "3.5.4"
  }
 },
 "nbformat": 4,
 "nbformat_minor": 2
}
